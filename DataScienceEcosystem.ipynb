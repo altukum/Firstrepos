{
 "cells": [
  {
   "cell_type": "markdown",
   "id": "38253ede-6590-45bc-86e0-cf14bfe91400",
   "metadata": {},
   "source": [
    "#Data Science Tools and Ecosystem"
   ]
  },
  {
   "cell_type": "markdown",
   "id": "aa5a5476-2ccf-4b23-aa9c-158a5cba4011",
   "metadata": {},
   "source": [
    "In this notebook, DAta Science Tools and Ecosystem are sumarized"
   ]
  },
  {
   "cell_type": "markdown",
   "id": "266cce85-3b59-4ddc-a3c2-a65d51a3730a",
   "metadata": {},
   "source": [
    "\n",
    "**Objectives:**\n",
    "- List of populat  languages for Data Science\n",
    "- List of commonly used librarires für Data Science\n",
    "- Some of aritmetic expression used in PYthon"
   ]
  },
  {
   "cell_type": "markdown",
   "id": "6825b0dc-fff0-4dd0-9500-f50970e11f6a",
   "metadata": {},
   "source": [
    "##Some of the popular languages that DAta Scientist use are : "
   ]
  },
  {
   "cell_type": "markdown",
   "id": "52efb813-2f64-4958-85f3-0206c8259938",
   "metadata": {},
   "source": [
    "1. Python\n",
    "2. R\n",
    "3. SQL"
   ]
  },
  {
   "cell_type": "markdown",
   "id": "2ab64913-a365-4192-9c1d-409d5b5b330f",
   "metadata": {},
   "source": [
    "##Some of the commonly used libraries used by Data Scientiest include:\n",
    "1. Numpy\n",
    "2. Panda\n",
    "3. Matplotlib"
   ]
  },
  {
   "cell_type": "markdown",
   "id": "452b4393-55c1-457f-bc58-3c6e5276a36c",
   "metadata": {},
   "source": [
    "|Data Science Tools|\n",
    "|:----------------:|\n",
    "|github|\n",
    "|Bitbucket|\n",
    "|beanstalk|"
   ]
  },
  {
   "cell_type": "markdown",
   "id": "1a9f6417-4e6d-4956-9478-a55e61d96bbd",
   "metadata": {},
   "source": [
    "###BElow are a few examples of evaluating aritmetic expression in Python"
   ]
  },
  {
   "cell_type": "code",
   "execution_count": 7,
   "id": "a4c3ce42-a29a-439e-a0f2-8963fbc2497b",
   "metadata": {},
   "outputs": [
    {
     "data": {
      "text/plain": [
       "17"
      ]
     },
     "execution_count": 7,
     "metadata": {},
     "output_type": "execute_result"
    }
   ],
   "source": [
    "(3*4)+5\n",
    "#This is a sample aritmetic expression to multipy then add integers"
   ]
  },
  {
   "cell_type": "code",
   "execution_count": 8,
   "id": "e327b63c-3425-4f18-85ae-8264d7cee961",
   "metadata": {},
   "outputs": [
    {
     "data": {
      "text/plain": [
       "3.3333333333333335"
      ]
     },
     "execution_count": 8,
     "metadata": {},
     "output_type": "execute_result"
    }
   ],
   "source": [
    "200/60\n",
    "#This will convert 200 minutes to hours dividing by 60"
   ]
  },
  {
   "cell_type": "markdown",
   "id": "36e73719-aa93-44e0-8ecb-abd9d2f745f5",
   "metadata": {},
   "source": [
    "##Author  \n",
    "Altug "
   ]
  }
 ],
 "metadata": {
  "kernelspec": {
   "display_name": "Python 3 (ipykernel)",
   "language": "python",
   "name": "python3"
  },
  "language_info": {
   "codemirror_mode": {
    "name": "ipython",
    "version": 3
   },
   "file_extension": ".py",
   "mimetype": "text/x-python",
   "name": "python",
   "nbconvert_exporter": "python",
   "pygments_lexer": "ipython3",
   "version": "3.12.7"
  }
 },
 "nbformat": 4,
 "nbformat_minor": 5
}
